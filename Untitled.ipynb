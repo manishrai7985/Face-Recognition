{
 "cells": [
  {
   "cell_type": "code",
   "execution_count": 19,
   "id": "515f9334",
   "metadata": {},
   "outputs": [],
   "source": [
    "import os\n",
    "import numpy as np\n",
    "from PIL import Image\n",
    "from sklearn.preprocessing import LabelEncoder, StandardScaler\n",
    "from sklearn.model_selection import train_test_split\n",
    "from tensorflow.keras.utils import to_categorical\n",
    "from tensorflow.keras.models import Sequential\n",
    "from tensorflow.keras.layers import Dense, Dropout\n",
    "import matplotlib.pyplot as plt\n",
    "import requests\n",
    "from io import BytesIO"
   ]
  },
  {
   "cell_type": "code",
   "execution_count": 20,
   "id": "833a7436",
   "metadata": {},
   "outputs": [],
   "source": [
    "# Set the image directory path\n",
    "image_dir = 'images'"
   ]
  },
  {
   "cell_type": "code",
   "execution_count": 21,
   "id": "6dcabdbe",
   "metadata": {},
   "outputs": [],
   "source": [
    "def load_images(image_dir):\n",
    "    images = []\n",
    "    labels = []\n",
    "    class_names = []\n",
    "    for class_name in os.listdir(image_dir):\n",
    "        class_path = os.path.join(image_dir, class_name)\n",
    "        if os.path.isdir(class_path):\n",
    "            class_names.append(class_name)\n",
    "            for img_name in os.listdir(class_path):\n",
    "                img_path = os.path.join(class_path, img_name)\n",
    "                img = Image.open(img_path).convert('L')  # Convert to grayscale\n",
    "                img = img.resize((50, 50))  # Resize to a standard size\n",
    "                images.append(np.array(img))\n",
    "                labels.append(class_name)\n",
    "    return np.array(images), np.array(labels), class_names"
   ]
  },
  {
   "cell_type": "code",
   "execution_count": 22,
   "id": "f695354e",
   "metadata": {},
   "outputs": [],
   "source": [
    "# Load the dataset\n",
    "images, labels, class_names = load_images(image_dir)"
   ]
  },
  {
   "cell_type": "code",
   "execution_count": 23,
   "id": "c5ebf969",
   "metadata": {},
   "outputs": [],
   "source": [
    "# Flatten images\n",
    "n_samples, h, w = images.shape\n",
    "X = images.reshape(n_samples, -1)"
   ]
  },
  {
   "cell_type": "code",
   "execution_count": 24,
   "id": "00b017fc",
   "metadata": {},
   "outputs": [],
   "source": [
    "# Encode labels\n",
    "label_encoder = LabelEncoder()\n",
    "y = label_encoder.fit_transform(labels)\n",
    "y = to_categorical(y)"
   ]
  },
  {
   "cell_type": "code",
   "execution_count": 25,
   "id": "d40e962a",
   "metadata": {},
   "outputs": [],
   "source": [
    "# Standardize features\n",
    "scaler = StandardScaler()\n",
    "X = scaler.fit_transform(X)"
   ]
  },
  {
   "cell_type": "code",
   "execution_count": 26,
   "id": "526dedc1",
   "metadata": {},
   "outputs": [],
   "source": [
    "# Split the dataset into training and testing sets\n",
    "X_train, X_test, y_train, y_test = train_test_split(X, y, test_size=0.3, random_state=42)"
   ]
  },
  {
   "cell_type": "code",
   "execution_count": 27,
   "id": "e2051eba",
   "metadata": {},
   "outputs": [
    {
     "name": "stdout",
     "output_type": "stream",
     "text": [
      "Number of classes: 119\n",
      "Number of samples: 3677\n",
      "Image size: 50x50\n"
     ]
    }
   ],
   "source": [
    "print(f\"Number of classes: {len(class_names)}\")\n",
    "print(f\"Number of samples: {n_samples}\")\n",
    "print(f\"Image size: {h}x{w}\")"
   ]
  },
  {
   "cell_type": "markdown",
   "id": "b4ff54aa",
   "metadata": {},
   "source": [
    "# Define and train the MLP model"
   ]
  },
  {
   "cell_type": "code",
   "execution_count": 28,
   "id": "5a04cda3",
   "metadata": {},
   "outputs": [],
   "source": [
    "# Define the MLP model\n",
    "model = Sequential()\n",
    "model.add(Dense(512, input_shape=(X.shape[1],), activation='relu'))\n",
    "model.add(Dropout(0.5))\n",
    "model.add(Dense(512, activation='relu'))\n",
    "model.add(Dropout(0.5))\n",
    "model.add(Dense(len(class_names), activation='softmax'))"
   ]
  },
  {
   "cell_type": "code",
   "execution_count": 29,
   "id": "7e96400b",
   "metadata": {},
   "outputs": [
    {
     "name": "stdout",
     "output_type": "stream",
     "text": [
      "Model: \"sequential_1\"\n",
      "_________________________________________________________________\n",
      " Layer (type)                Output Shape              Param #   \n",
      "=================================================================\n",
      " dense_3 (Dense)             (None, 512)               1280512   \n",
      "                                                                 \n",
      " dropout_2 (Dropout)         (None, 512)               0         \n",
      "                                                                 \n",
      " dense_4 (Dense)             (None, 512)               262656    \n",
      "                                                                 \n",
      " dropout_3 (Dropout)         (None, 512)               0         \n",
      "                                                                 \n",
      " dense_5 (Dense)             (None, 119)               61047     \n",
      "                                                                 \n",
      "=================================================================\n",
      "Total params: 1,604,215\n",
      "Trainable params: 1,604,215\n",
      "Non-trainable params: 0\n",
      "_________________________________________________________________\n"
     ]
    }
   ],
   "source": [
    "model.compile(optimizer='adam', loss='categorical_crossentropy', metrics=['accuracy'])\n",
    "\n",
    "model.summary()"
   ]
  },
  {
   "cell_type": "code",
   "execution_count": 30,
   "id": "9ee62904",
   "metadata": {},
   "outputs": [
    {
     "name": "stdout",
     "output_type": "stream",
     "text": [
      "Epoch 1/50\n",
      "17/17 - 3s - loss: 5.4126 - accuracy: 0.0928 - val_loss: 4.0699 - val_accuracy: 0.2000 - 3s/epoch - 160ms/step\n",
      "Epoch 2/50\n",
      "17/17 - 1s - loss: 4.4329 - accuracy: 0.1555 - val_loss: 3.9368 - val_accuracy: 0.2505 - 865ms/epoch - 51ms/step\n",
      "Epoch 3/50\n",
      "17/17 - 1s - loss: 4.0588 - accuracy: 0.1914 - val_loss: 3.8633 - val_accuracy: 0.2427 - 816ms/epoch - 48ms/step\n",
      "Epoch 4/50\n",
      "17/17 - 1s - loss: 3.8177 - accuracy: 0.2089 - val_loss: 3.7305 - val_accuracy: 0.2660 - 810ms/epoch - 48ms/step\n",
      "Epoch 5/50\n",
      "17/17 - 1s - loss: 3.6764 - accuracy: 0.2313 - val_loss: 3.5925 - val_accuracy: 0.3107 - 853ms/epoch - 50ms/step\n",
      "Epoch 6/50\n",
      "17/17 - 1s - loss: 3.4965 - accuracy: 0.2668 - val_loss: 3.4914 - val_accuracy: 0.3223 - 813ms/epoch - 48ms/step\n",
      "Epoch 7/50\n",
      "17/17 - 1s - loss: 3.3571 - accuracy: 0.2828 - val_loss: 3.4438 - val_accuracy: 0.3282 - 870ms/epoch - 51ms/step\n",
      "Epoch 8/50\n",
      "17/17 - 1s - loss: 3.1414 - accuracy: 0.3124 - val_loss: 3.2460 - val_accuracy: 0.3573 - 852ms/epoch - 50ms/step\n",
      "Epoch 9/50\n",
      "17/17 - 1s - loss: 3.0232 - accuracy: 0.3338 - val_loss: 3.0980 - val_accuracy: 0.3631 - 869ms/epoch - 51ms/step\n",
      "Epoch 10/50\n",
      "17/17 - 1s - loss: 2.8410 - accuracy: 0.3586 - val_loss: 2.9427 - val_accuracy: 0.3748 - 870ms/epoch - 51ms/step\n",
      "Epoch 11/50\n",
      "17/17 - 1s - loss: 2.7724 - accuracy: 0.3707 - val_loss: 2.9825 - val_accuracy: 0.3981 - 866ms/epoch - 51ms/step\n",
      "Epoch 12/50\n",
      "17/17 - 1s - loss: 2.7021 - accuracy: 0.3926 - val_loss: 2.9355 - val_accuracy: 0.4000 - 861ms/epoch - 51ms/step\n",
      "Epoch 13/50\n",
      "17/17 - 1s - loss: 2.6989 - accuracy: 0.3853 - val_loss: 2.8935 - val_accuracy: 0.3942 - 833ms/epoch - 49ms/step\n",
      "Epoch 14/50\n",
      "17/17 - 1s - loss: 2.5747 - accuracy: 0.3858 - val_loss: 2.7965 - val_accuracy: 0.4058 - 808ms/epoch - 48ms/step\n",
      "Epoch 15/50\n",
      "17/17 - 1s - loss: 2.4697 - accuracy: 0.4300 - val_loss: 2.7691 - val_accuracy: 0.4252 - 771ms/epoch - 45ms/step\n",
      "Epoch 16/50\n",
      "17/17 - 1s - loss: 2.2524 - accuracy: 0.4500 - val_loss: 2.6672 - val_accuracy: 0.4291 - 764ms/epoch - 45ms/step\n",
      "Epoch 17/50\n",
      "17/17 - 1s - loss: 2.0980 - accuracy: 0.4879 - val_loss: 2.5901 - val_accuracy: 0.4427 - 791ms/epoch - 47ms/step\n",
      "Epoch 18/50\n",
      "17/17 - 1s - loss: 2.1258 - accuracy: 0.4888 - val_loss: 2.5702 - val_accuracy: 0.4350 - 796ms/epoch - 47ms/step\n",
      "Epoch 19/50\n",
      "17/17 - 1s - loss: 1.9993 - accuracy: 0.5058 - val_loss: 2.5348 - val_accuracy: 0.4602 - 794ms/epoch - 47ms/step\n",
      "Epoch 20/50\n",
      "17/17 - 1s - loss: 1.8747 - accuracy: 0.5345 - val_loss: 2.5319 - val_accuracy: 0.4699 - 796ms/epoch - 47ms/step\n",
      "Epoch 21/50\n",
      "17/17 - 1s - loss: 1.8789 - accuracy: 0.5491 - val_loss: 2.4862 - val_accuracy: 0.4641 - 798ms/epoch - 47ms/step\n",
      "Epoch 22/50\n",
      "17/17 - 1s - loss: 1.8133 - accuracy: 0.5394 - val_loss: 2.4472 - val_accuracy: 0.4583 - 803ms/epoch - 47ms/step\n",
      "Epoch 23/50\n",
      "17/17 - 1s - loss: 1.6353 - accuracy: 0.5743 - val_loss: 2.4225 - val_accuracy: 0.4816 - 804ms/epoch - 47ms/step\n",
      "Epoch 24/50\n",
      "17/17 - 1s - loss: 1.6824 - accuracy: 0.5646 - val_loss: 2.4253 - val_accuracy: 0.4816 - 805ms/epoch - 47ms/step\n",
      "Epoch 25/50\n",
      "17/17 - 1s - loss: 1.6447 - accuracy: 0.5734 - val_loss: 2.4108 - val_accuracy: 0.4777 - 807ms/epoch - 47ms/step\n",
      "Epoch 26/50\n",
      "17/17 - 1s - loss: 1.5100 - accuracy: 0.6025 - val_loss: 2.3667 - val_accuracy: 0.5068 - 812ms/epoch - 48ms/step\n",
      "Epoch 27/50\n",
      "17/17 - 1s - loss: 1.4641 - accuracy: 0.6103 - val_loss: 2.3851 - val_accuracy: 0.4757 - 841ms/epoch - 49ms/step\n",
      "Epoch 28/50\n",
      "17/17 - 1s - loss: 1.3487 - accuracy: 0.6263 - val_loss: 2.3785 - val_accuracy: 0.5049 - 807ms/epoch - 47ms/step\n",
      "Epoch 29/50\n",
      "17/17 - 1s - loss: 1.4400 - accuracy: 0.6195 - val_loss: 2.3775 - val_accuracy: 0.4835 - 774ms/epoch - 46ms/step\n",
      "Epoch 30/50\n",
      "17/17 - 1s - loss: 1.3638 - accuracy: 0.6361 - val_loss: 2.3668 - val_accuracy: 0.4835 - 869ms/epoch - 51ms/step\n",
      "Epoch 31/50\n",
      "17/17 - 1s - loss: 1.2711 - accuracy: 0.6696 - val_loss: 2.4175 - val_accuracy: 0.5029 - 790ms/epoch - 46ms/step\n",
      "Epoch 32/50\n",
      "17/17 - 1s - loss: 1.3427 - accuracy: 0.6433 - val_loss: 2.3730 - val_accuracy: 0.4951 - 801ms/epoch - 47ms/step\n",
      "Epoch 33/50\n",
      "17/17 - 1s - loss: 1.2867 - accuracy: 0.6657 - val_loss: 2.3564 - val_accuracy: 0.5049 - 820ms/epoch - 48ms/step\n",
      "Epoch 34/50\n",
      "17/17 - 1s - loss: 1.1074 - accuracy: 0.6905 - val_loss: 2.2963 - val_accuracy: 0.5282 - 744ms/epoch - 44ms/step\n",
      "Epoch 35/50\n",
      "17/17 - 1s - loss: 1.1313 - accuracy: 0.6905 - val_loss: 2.3224 - val_accuracy: 0.5107 - 826ms/epoch - 49ms/step\n",
      "Epoch 36/50\n",
      "17/17 - 1s - loss: 1.0781 - accuracy: 0.7041 - val_loss: 2.3786 - val_accuracy: 0.5223 - 805ms/epoch - 47ms/step\n",
      "Epoch 37/50\n",
      "17/17 - 1s - loss: 1.1229 - accuracy: 0.7007 - val_loss: 2.3503 - val_accuracy: 0.5126 - 776ms/epoch - 46ms/step\n",
      "Epoch 38/50\n",
      "17/17 - 1s - loss: 1.2778 - accuracy: 0.6642 - val_loss: 2.3922 - val_accuracy: 0.5049 - 799ms/epoch - 47ms/step\n",
      "Epoch 39/50\n",
      "17/17 - 1s - loss: 1.2043 - accuracy: 0.6812 - val_loss: 2.4514 - val_accuracy: 0.5126 - 811ms/epoch - 48ms/step\n",
      "Epoch 40/50\n",
      "17/17 - 1s - loss: 1.2136 - accuracy: 0.6774 - val_loss: 2.4695 - val_accuracy: 0.5087 - 805ms/epoch - 47ms/step\n",
      "Epoch 41/50\n",
      "17/17 - 1s - loss: 1.1427 - accuracy: 0.7002 - val_loss: 2.4054 - val_accuracy: 0.5087 - 804ms/epoch - 47ms/step\n",
      "Epoch 42/50\n",
      "17/17 - 1s - loss: 1.0643 - accuracy: 0.6948 - val_loss: 2.3972 - val_accuracy: 0.5379 - 791ms/epoch - 47ms/step\n",
      "Epoch 43/50\n",
      "17/17 - 1s - loss: 1.0076 - accuracy: 0.7230 - val_loss: 2.4581 - val_accuracy: 0.5126 - 814ms/epoch - 48ms/step\n",
      "Epoch 44/50\n",
      "17/17 - 1s - loss: 0.9866 - accuracy: 0.7182 - val_loss: 2.4007 - val_accuracy: 0.5282 - 811ms/epoch - 48ms/step\n",
      "Epoch 45/50\n",
      "17/17 - 1s - loss: 0.9164 - accuracy: 0.7420 - val_loss: 2.4418 - val_accuracy: 0.5262 - 802ms/epoch - 47ms/step\n",
      "Epoch 46/50\n",
      "17/17 - 1s - loss: 0.9785 - accuracy: 0.7293 - val_loss: 2.4095 - val_accuracy: 0.5301 - 811ms/epoch - 48ms/step\n",
      "Epoch 47/50\n",
      "17/17 - 1s - loss: 1.0198 - accuracy: 0.7216 - val_loss: 2.4202 - val_accuracy: 0.5204 - 799ms/epoch - 47ms/step\n",
      "Epoch 48/50\n",
      "17/17 - 1s - loss: 0.9318 - accuracy: 0.7561 - val_loss: 2.4314 - val_accuracy: 0.5204 - 767ms/epoch - 45ms/step\n",
      "Epoch 49/50\n",
      "17/17 - 1s - loss: 1.0312 - accuracy: 0.7308 - val_loss: 2.5127 - val_accuracy: 0.5223 - 789ms/epoch - 46ms/step\n",
      "Epoch 50/50\n",
      "17/17 - 1s - loss: 0.9256 - accuracy: 0.7328 - val_loss: 2.4864 - val_accuracy: 0.5262 - 790ms/epoch - 46ms/step\n"
     ]
    }
   ],
   "source": [
    "# Train the model\n",
    "history = model.fit(X_train, y_train, epochs=50, batch_size=128, validation_split=0.2, verbose=2)"
   ]
  },
  {
   "cell_type": "code",
   "execution_count": 31,
   "id": "c3144931",
   "metadata": {},
   "outputs": [
    {
     "name": "stdout",
     "output_type": "stream",
     "text": [
      "Test loss: 2.4734385013580322\n",
      "Test accuracy: 0.51902174949646\n"
     ]
    }
   ],
   "source": [
    "# Evaluate the model\n",
    "score = model.evaluate(X_test, y_test, verbose=0)\n",
    "print(f\"Test loss: {score[0]}\")\n",
    "print(f\"Test accuracy: {score[1]}\")"
   ]
  },
  {
   "cell_type": "code",
   "execution_count": 32,
   "id": "101597e3",
   "metadata": {},
   "outputs": [
    {
     "data": {
      "text/plain": [
       "<Figure size 1200x400 with 0 Axes>"
      ]
     },
     "execution_count": 32,
     "metadata": {},
     "output_type": "execute_result"
    },
    {
     "data": {
      "text/plain": [
       "<Figure size 1200x400 with 0 Axes>"
      ]
     },
     "metadata": {},
     "output_type": "display_data"
    }
   ],
   "source": [
    "# Plot the training history\n",
    "plt.figure(figsize=(12, 4))\n"
   ]
  },
  {
   "cell_type": "code",
   "execution_count": 33,
   "id": "ba8ff56a",
   "metadata": {},
   "outputs": [
    {
     "data": {
      "text/plain": [
       "<matplotlib.legend.Legend at 0x1abe487ccd0>"
      ]
     },
     "execution_count": 33,
     "metadata": {},
     "output_type": "execute_result"
    },
    {
     "data": {
      "image/png": "[encoded data removed]",
      "text/plain": [
       "<Figure size 640x480 with 1 Axes>"
      ]
     },
     "metadata": {},
     "output_type": "display_data"
    }
   ],
   "source": [
    "# Plot training & validation accuracy values\n",
    "plt.subplot(1, 2, 1)\n",
    "plt.plot(history.history['accuracy'])\n",
    "plt.plot(history.history['val_accuracy'])\n",
    "plt.title('Model accuracy')\n",
    "plt.xlabel('Epoch')\n",
    "plt.ylabel('Accuracy')\n",
    "plt.legend(['Train', 'Validation'], loc='upper left')"
   ]
  },
  {
   "cell_type": "code",
   "execution_count": 34,
   "id": "e1d92618",
   "metadata": {},
   "outputs": [
    {
     "data": {
      "image/png": "[encoded data removed]",
      "text/plain": [
       "<Figure size 640x480 with 1 Axes>"
      ]
     },
     "metadata": {},
     "output_type": "display_data"
    }
   ],
   "source": [
    "# Plot training & validation loss values\n",
    "plt.subplot(1, 2, 2)\n",
    "plt.plot(history.history['loss'])\n",
    "plt.plot(history.history['val_loss'])\n",
    "plt.title('Model loss')\n",
    "plt.xlabel('Epoch')\n",
    "plt.ylabel('Loss')\n",
    "plt.legend(['Train', 'Validation'], loc='upper left')\n",
    "plt.tight_layout()\n",
    "plt.show()"
   ]
  },
  {
   "cell_type": "code",
   "execution_count": 35,
   "id": "efbdedd1",
   "metadata": {},
   "outputs": [],
   "source": [
    "def test_prediction(test_image_path, scaler, model, label_encoder):\n",
    "    # Check if the path is a URL\n",
    "    if test_image_path.startswith('http://') or test_image_path.startswith('https://'):\n",
    "        # Download the image from the URL\n",
    "        response = requests.get(test_image_path)\n",
    "        if response.status_code == 200:\n",
    "            # Check if the response contains an image\n",
    "            if 'image' in response.headers.get('Content-Type', ''):\n",
    "                # Open the image from the downloaded content\n",
    "                test_image = Image.open(BytesIO(response.content)).convert('L')\n",
    "            else:\n",
    "                print(f'The URL does not point to an image: {test_image_path}')\n",
    "                return\n",
    "        else:\n",
    "            print(f'Failed to download the image from {test_image_path}, status code: {response.status_code}')\n",
    "            return\n",
    "    else:\n",
    "        # Load the image from the local file path\n",
    "        test_image = Image.open(test_image_path).convert('L')\n",
    "\n",
    "    # Resize the image to match the training images' size\n",
    "    test_image_resized = test_image.resize((50, 50))\n",
    "    test_image_array = np.array(test_image_resized).flatten().reshape(1, -1)\n",
    "    test_image_scaled = scaler.transform(test_image_array)\n",
    "    \n",
    "    # Predict the class\n",
    "    prediction = model.predict(test_image_scaled)\n",
    "    predicted_class = np.argmax(prediction, axis=1)\n",
    "    recognized_name = label_encoder.inverse_transform(predicted_class)[0]\n",
    "    \n",
    "    # Display the image with the predicted label\n",
    "    plt.imshow(test_image, cmap='gray')\n",
    "    plt.title(f'Recognized as: {recognized_name}')\n",
    "    plt.axis('off')\n",
    "    plt.show()\n",
    "    \n",
    "    print(f'Test image {os.path.basename(test_image_path)} is recognized as: {recognized_name}')\n"
   ]
  },
  {
   "cell_type": "code",
   "execution_count": 36,
   "id": "218fae9c",
   "metadata": {},
   "outputs": [
    {
     "name": "stdout",
     "output_type": "stream",
     "text": [
      "1/1 [==============================] - 0s 123ms/step\n"
     ]
    },
    {
     "data": {
      "image/png": "[encoded data removed]",
      "text/plain": [
       "<Figure size 640x480 with 1 Axes>"
      ]
     },
     "metadata": {},
     "output_type": "display_data"
    },
    {
     "name": "stdout",
     "output_type": "stream",
     "text": [
      "Test image 1041.jpg is recognized as: Tommy_Franks\n"
     ]
    }
   ],
   "source": [
    "test_image_path = r'C:\\Users\\Manish Rai\\Downloads\\1041.jpg'\n",
    "test_prediction(test_image_path, scaler, model, label_encoder)"
   ]
  },
  {
   "cell_type": "code",
   "execution_count": 37,
   "id": "ee5f1e99",
   "metadata": {},
   "outputs": [
    {
     "name": "stdout",
     "output_type": "stream",
     "text": [
      "1/1 [==============================] - 0s 46ms/step\n"
     ]
    },
    {
     "data": {
      "image/png": "[encoded data removed]",
      "text/plain": [
       "<Figure size 640x480 with 1 Axes>"
      ]
     },
     "metadata": {},
     "output_type": "display_data"
    },
    {
     "name": "stdout",
     "output_type": "stream",
     "text": [
      "Test image 2875.jpg is recognized as: David_Beckham\n"
     ]
    }
   ],
   "source": [
    "test_image_path = r'C:\\Users\\Manish Rai\\Downloads\\2875.jpg'\n",
    "test_prediction(test_image_path, scaler, model, label_encoder)"
   ]
  }
 ],
 "metadata": {
  "kernelspec": {
   "display_name": "Python 3 (ipykernel)",
   "language": "python",
   "name": "python3"
  },
  "language_info": {
   "codemirror_mode": {
    "name": "ipython",
    "version": 3
   },
   "file_extension": ".py",
   "mimetype": "text/x-python",
   "name": "python",
   "nbconvert_exporter": "python",
   "pygments_lexer": "ipython3",
   "version": "3.10.9"
  }
 },
 "nbformat": 4,
 "nbformat_minor": 5
}
