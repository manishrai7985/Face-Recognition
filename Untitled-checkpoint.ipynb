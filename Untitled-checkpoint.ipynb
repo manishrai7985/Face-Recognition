{
 "cells": [
  {
   "cell_type": "code",
   "execution_count": 1,
   "id": "515f9334",
   "metadata": {},
   "outputs": [],
   "source": [
    "import os\n",
    "import numpy as np\n",
    "from PIL import Image\n",
    "from sklearn.preprocessing import LabelEncoder, StandardScaler\n",
    "from sklearn.model_selection import train_test_split\n",
    "from tensorflow.keras.utils import to_categorical\n",
    "from tensorflow.keras.models import Sequential\n",
    "from tensorflow.keras.layers import Dense, Dropout\n",
    "import matplotlib.pyplot as plt"
   ]
  },
  {
   "cell_type": "code",
   "execution_count": 2,
   "id": "833a7436",
   "metadata": {},
   "outputs": [],
   "source": [
    "# Set the image directory path\n",
    "image_dir = 'images'"
   ]
  },
  {
   "cell_type": "code",
   "execution_count": 3,
   "id": "6dcabdbe",
   "metadata": {},
   "outputs": [],
   "source": [
    "def load_images(image_dir):\n",
    "    images = []\n",
    "    labels = []\n",
    "    class_names = []\n",
    "    for class_name in os.listdir(image_dir):\n",
    "        class_path = os.path.join(image_dir, class_name)\n",
    "        if os.path.isdir(class_path):\n",
    "            class_names.append(class_name)\n",
    "            for img_name in os.listdir(class_path):\n",
    "                img_path = os.path.join(class_path, img_name)\n",
    "                img = Image.open(img_path).convert('L')  # Convert to grayscale\n",
    "                img = img.resize((50, 50))  # Resize to a standard size\n",
    "                images.append(np.array(img))\n",
    "                labels.append(class_name)\n",
    "    return np.array(images), np.array(labels), class_names"
   ]
  },
  {
   "cell_type": "code",
   "execution_count": 4,
   "id": "f695354e",
   "metadata": {},
   "outputs": [],
   "source": [
    "# Load the dataset\n",
    "images, labels, class_names = load_images(image_dir)"
   ]
  },
  {
   "cell_type": "code",
   "execution_count": 5,
   "id": "c5ebf969",
   "metadata": {},
   "outputs": [],
   "source": [
    "# Flatten images\n",
    "n_samples, h, w = images.shape\n",
    "X = images.reshape(n_samples, -1)"
   ]
  },
  {
   "cell_type": "code",
   "execution_count": 6,
   "id": "00b017fc",
   "metadata": {},
   "outputs": [],
   "source": [
    "# Encode labels\n",
    "label_encoder = LabelEncoder()\n",
    "y = label_encoder.fit_transform(labels)\n",
    "y = to_categorical(y)"
   ]
  },
  {
   "cell_type": "code",
   "execution_count": 7,
   "id": "d40e962a",
   "metadata": {},
   "outputs": [],
   "source": [
    "# Standardize features\n",
    "scaler = StandardScaler()\n",
    "X = scaler.fit_transform(X)"
   ]
  },
  {
   "cell_type": "code",
   "execution_count": 8,
   "id": "526dedc1",
   "metadata": {},
   "outputs": [],
   "source": [
    "# Split the dataset into training and testing sets\n",
    "X_train, X_test, y_train, y_test = train_test_split(X, y, test_size=0.3, random_state=42)"
   ]
  },
  {
   "cell_type": "code",
   "execution_count": 9,
   "id": "e2051eba",
   "metadata": {},
   "outputs": [
    {
     "name": "stdout",
     "output_type": "stream",
     "text": [
      "Number of classes: 119\n",
      "Number of samples: 3677\n",
      "Image size: 50x50\n"
     ]
    }
   ],
   "source": [
    "print(f\"Number of classes: {len(class_names)}\")\n",
    "print(f\"Number of samples: {n_samples}\")\n",
    "print(f\"Image size: {h}x{w}\")"
   ]
  },
  {
   "cell_type": "markdown",
   "id": "b4ff54aa",
   "metadata": {},
   "source": [
    "# Define and train the MLP model"
   ]
  },
  {
   "cell_type": "code",
   "execution_count": 10,
   "id": "5a04cda3",
   "metadata": {},
   "outputs": [],
   "source": [
    "# Define the MLP model\n",
    "model = Sequential()\n",
    "model.add(Dense(512, input_shape=(X.shape[1],), activation='relu'))\n",
    "model.add(Dropout(0.5))\n",
    "model.add(Dense(512, activation='relu'))\n",
    "model.add(Dropout(0.5))\n",
    "model.add(Dense(len(class_names), activation='softmax'))"
   ]
  },
  {
   "cell_type": "code",
   "execution_count": 11,
   "id": "7e96400b",
   "metadata": {},
   "outputs": [
    {
     "name": "stdout",
     "output_type": "stream",
     "text": [
      "Model: \"sequential\"\n",
      "_________________________________________________________________\n",
      " Layer (type)                Output Shape              Param #   \n",
      "=================================================================\n",
      " dense (Dense)               (None, 512)               1280512   \n",
      "                                                                 \n",
      " dropout (Dropout)           (None, 512)               0         \n",
      "                                                                 \n",
      " dense_1 (Dense)             (None, 512)               262656    \n",
      "                                                                 \n",
      " dropout_1 (Dropout)         (None, 512)               0         \n",
      "                                                                 \n",
      " dense_2 (Dense)             (None, 119)               61047     \n",
      "                                                                 \n",
      "=================================================================\n",
      "Total params: 1,604,215\n",
      "Trainable params: 1,604,215\n",
      "Non-trainable params: 0\n",
      "_________________________________________________________________\n"
     ]
    }
   ],
   "source": [
    "model.compile(optimizer='adam', loss='categorical_crossentropy', metrics=['accuracy'])\n",
    "\n",
    "model.summary()"
   ]
  },
  {
   "cell_type": "code",
   "execution_count": 12,
   "id": "9ee62904",
   "metadata": {},
   "outputs": [
    {
     "name": "stdout",
     "output_type": "stream",
     "text": [
      "Epoch 1/50\n",
      "17/17 - 2s - loss: 5.4057 - accuracy: 0.0914 - val_loss: 4.0191 - val_accuracy: 0.2000 - 2s/epoch - 95ms/step\n",
      "Epoch 2/50\n",
      "17/17 - 0s - loss: 4.4629 - accuracy: 0.1385 - val_loss: 4.0611 - val_accuracy: 0.2291 - 473ms/epoch - 28ms/step\n",
      "Epoch 3/50\n",
      "17/17 - 0s - loss: 4.0737 - accuracy: 0.1919 - val_loss: 3.9404 - val_accuracy: 0.2427 - 477ms/epoch - 28ms/step\n",
      "Epoch 4/50\n",
      "17/17 - 0s - loss: 3.8755 - accuracy: 0.2051 - val_loss: 3.7710 - val_accuracy: 0.2699 - 480ms/epoch - 28ms/step\n",
      "Epoch 5/50\n",
      "17/17 - 0s - loss: 3.6949 - accuracy: 0.2308 - val_loss: 3.6707 - val_accuracy: 0.3049 - 480ms/epoch - 28ms/step\n",
      "Epoch 6/50\n",
      "17/17 - 0s - loss: 3.5358 - accuracy: 0.2566 - val_loss: 3.5265 - val_accuracy: 0.3379 - 489ms/epoch - 29ms/step\n",
      "Epoch 7/50\n",
      "17/17 - 0s - loss: 3.3703 - accuracy: 0.2901 - val_loss: 3.4466 - val_accuracy: 0.3068 - 470ms/epoch - 28ms/step\n",
      "Epoch 8/50\n",
      "17/17 - 0s - loss: 3.2716 - accuracy: 0.2988 - val_loss: 3.3231 - val_accuracy: 0.3631 - 479ms/epoch - 28ms/step\n",
      "Epoch 9/50\n",
      "17/17 - 0s - loss: 3.1566 - accuracy: 0.3188 - val_loss: 3.2451 - val_accuracy: 0.3534 - 492ms/epoch - 29ms/step\n",
      "Epoch 10/50\n",
      "17/17 - 0s - loss: 2.9958 - accuracy: 0.3372 - val_loss: 3.1171 - val_accuracy: 0.3650 - 496ms/epoch - 29ms/step\n",
      "Epoch 11/50\n",
      "17/17 - 1s - loss: 2.9284 - accuracy: 0.3416 - val_loss: 3.0651 - val_accuracy: 0.3748 - 559ms/epoch - 33ms/step\n",
      "Epoch 12/50\n",
      "17/17 - 1s - loss: 2.8202 - accuracy: 0.3533 - val_loss: 3.0181 - val_accuracy: 0.3922 - 542ms/epoch - 32ms/step\n",
      "Epoch 13/50\n",
      "17/17 - 0s - loss: 2.6841 - accuracy: 0.3776 - val_loss: 2.9191 - val_accuracy: 0.3767 - 479ms/epoch - 28ms/step\n",
      "Epoch 14/50\n",
      "17/17 - 0s - loss: 2.5902 - accuracy: 0.3980 - val_loss: 2.8488 - val_accuracy: 0.4155 - 470ms/epoch - 28ms/step\n",
      "Epoch 15/50\n",
      "17/17 - 0s - loss: 2.4034 - accuracy: 0.4208 - val_loss: 2.7107 - val_accuracy: 0.4311 - 478ms/epoch - 28ms/step\n",
      "Epoch 16/50\n",
      "17/17 - 1s - loss: 2.2968 - accuracy: 0.4543 - val_loss: 2.6519 - val_accuracy: 0.4485 - 565ms/epoch - 33ms/step\n",
      "Epoch 17/50\n",
      "17/17 - 0s - loss: 2.1798 - accuracy: 0.4694 - val_loss: 2.5904 - val_accuracy: 0.4485 - 470ms/epoch - 28ms/step\n",
      "Epoch 18/50\n",
      "17/17 - 0s - loss: 2.1025 - accuracy: 0.4985 - val_loss: 2.5925 - val_accuracy: 0.4621 - 472ms/epoch - 28ms/step\n",
      "Epoch 19/50\n",
      "17/17 - 0s - loss: 1.9728 - accuracy: 0.5068 - val_loss: 2.5180 - val_accuracy: 0.4505 - 494ms/epoch - 29ms/step\n",
      "Epoch 20/50\n",
      "17/17 - 0s - loss: 1.9331 - accuracy: 0.5034 - val_loss: 2.4646 - val_accuracy: 0.4738 - 472ms/epoch - 28ms/step\n",
      "Epoch 21/50\n",
      "17/17 - 0s - loss: 1.9689 - accuracy: 0.4976 - val_loss: 2.4655 - val_accuracy: 0.4660 - 478ms/epoch - 28ms/step\n",
      "Epoch 22/50\n",
      "17/17 - 0s - loss: 1.8899 - accuracy: 0.5243 - val_loss: 2.4570 - val_accuracy: 0.4796 - 473ms/epoch - 28ms/step\n",
      "Epoch 23/50\n",
      "17/17 - 0s - loss: 1.8163 - accuracy: 0.5398 - val_loss: 2.5254 - val_accuracy: 0.4505 - 471ms/epoch - 28ms/step\n",
      "Epoch 24/50\n",
      "17/17 - 0s - loss: 1.7713 - accuracy: 0.5423 - val_loss: 2.4814 - val_accuracy: 0.4505 - 471ms/epoch - 28ms/step\n",
      "Epoch 25/50\n",
      "17/17 - 0s - loss: 1.6564 - accuracy: 0.5777 - val_loss: 2.3889 - val_accuracy: 0.4874 - 475ms/epoch - 28ms/step\n",
      "Epoch 26/50\n",
      "17/17 - 0s - loss: 1.5387 - accuracy: 0.5884 - val_loss: 2.3246 - val_accuracy: 0.4913 - 468ms/epoch - 28ms/step\n",
      "Epoch 27/50\n",
      "17/17 - 0s - loss: 1.5150 - accuracy: 0.5982 - val_loss: 2.3732 - val_accuracy: 0.4796 - 466ms/epoch - 27ms/step\n",
      "Epoch 28/50\n",
      "17/17 - 1s - loss: 1.4901 - accuracy: 0.6093 - val_loss: 2.3685 - val_accuracy: 0.5087 - 518ms/epoch - 30ms/step\n",
      "Epoch 29/50\n",
      "17/17 - 0s - loss: 1.4870 - accuracy: 0.6050 - val_loss: 2.3644 - val_accuracy: 0.4874 - 475ms/epoch - 28ms/step\n",
      "Epoch 30/50\n",
      "17/17 - 0s - loss: 1.5040 - accuracy: 0.6127 - val_loss: 2.3082 - val_accuracy: 0.5165 - 472ms/epoch - 28ms/step\n",
      "Epoch 31/50\n",
      "17/17 - 1s - loss: 1.4023 - accuracy: 0.6234 - val_loss: 2.3170 - val_accuracy: 0.4990 - 565ms/epoch - 33ms/step\n",
      "Epoch 32/50\n",
      "17/17 - 1s - loss: 1.3618 - accuracy: 0.6467 - val_loss: 2.3616 - val_accuracy: 0.4777 - 563ms/epoch - 33ms/step\n",
      "Epoch 33/50\n",
      "17/17 - 1s - loss: 1.3834 - accuracy: 0.6467 - val_loss: 2.3469 - val_accuracy: 0.4932 - 518ms/epoch - 30ms/step\n",
      "Epoch 34/50\n",
      "17/17 - 0s - loss: 1.2919 - accuracy: 0.6511 - val_loss: 2.3725 - val_accuracy: 0.4816 - 474ms/epoch - 28ms/step\n",
      "Epoch 35/50\n",
      "17/17 - 0s - loss: 1.3399 - accuracy: 0.6501 - val_loss: 2.3628 - val_accuracy: 0.4932 - 472ms/epoch - 28ms/step\n",
      "Epoch 36/50\n",
      "17/17 - 0s - loss: 1.3396 - accuracy: 0.6453 - val_loss: 2.3721 - val_accuracy: 0.5049 - 468ms/epoch - 28ms/step\n",
      "Epoch 37/50\n",
      "17/17 - 0s - loss: 1.2497 - accuracy: 0.6720 - val_loss: 2.3807 - val_accuracy: 0.5204 - 473ms/epoch - 28ms/step\n",
      "Epoch 38/50\n",
      "17/17 - 1s - loss: 1.1669 - accuracy: 0.6832 - val_loss: 2.3708 - val_accuracy: 0.5223 - 536ms/epoch - 32ms/step\n",
      "Epoch 39/50\n",
      "17/17 - 0s - loss: 1.1009 - accuracy: 0.6900 - val_loss: 2.3948 - val_accuracy: 0.5049 - 483ms/epoch - 28ms/step\n",
      "Epoch 40/50\n",
      "17/17 - 0s - loss: 1.0023 - accuracy: 0.7332 - val_loss: 2.3603 - val_accuracy: 0.5184 - 470ms/epoch - 28ms/step\n",
      "Epoch 41/50\n",
      "17/17 - 0s - loss: 0.9143 - accuracy: 0.7498 - val_loss: 2.3236 - val_accuracy: 0.5301 - 470ms/epoch - 28ms/step\n",
      "Epoch 42/50\n",
      "17/17 - 0s - loss: 0.9276 - accuracy: 0.7425 - val_loss: 2.3137 - val_accuracy: 0.5417 - 474ms/epoch - 28ms/step\n",
      "Epoch 43/50\n",
      "17/17 - 0s - loss: 0.8960 - accuracy: 0.7483 - val_loss: 2.3890 - val_accuracy: 0.5223 - 473ms/epoch - 28ms/step\n",
      "Epoch 44/50\n",
      "17/17 - 0s - loss: 1.0226 - accuracy: 0.7080 - val_loss: 2.4180 - val_accuracy: 0.5049 - 470ms/epoch - 28ms/step\n",
      "Epoch 45/50\n",
      "17/17 - 0s - loss: 1.1383 - accuracy: 0.6900 - val_loss: 2.4638 - val_accuracy: 0.4874 - 478ms/epoch - 28ms/step\n",
      "Epoch 46/50\n",
      "17/17 - 1s - loss: 1.0488 - accuracy: 0.7089 - val_loss: 2.4183 - val_accuracy: 0.5379 - 532ms/epoch - 31ms/step\n",
      "Epoch 47/50\n",
      "17/17 - 1s - loss: 0.9929 - accuracy: 0.7274 - val_loss: 2.4710 - val_accuracy: 0.5165 - 519ms/epoch - 31ms/step\n",
      "Epoch 48/50\n",
      "17/17 - 1s - loss: 0.9773 - accuracy: 0.7396 - val_loss: 2.4564 - val_accuracy: 0.5204 - 508ms/epoch - 30ms/step\n",
      "Epoch 49/50\n",
      "17/17 - 1s - loss: 0.8715 - accuracy: 0.7556 - val_loss: 2.4194 - val_accuracy: 0.5126 - 529ms/epoch - 31ms/step\n",
      "Epoch 50/50\n",
      "17/17 - 0s - loss: 0.9873 - accuracy: 0.7221 - val_loss: 2.4434 - val_accuracy: 0.5282 - 492ms/epoch - 29ms/step\n"
     ]
    }
   ],
   "source": [
    "# Train the model\n",
    "history = model.fit(X_train, y_train, epochs=50, batch_size=128, validation_split=0.2, verbose=2)"
   ]
  },
  {
   "cell_type": "code",
   "execution_count": 13,
   "id": "c3144931",
   "metadata": {},
   "outputs": [
    {
     "name": "stdout",
     "output_type": "stream",
     "text": [
      "Test loss: 2.56423282623291\n",
      "Test accuracy: 0.5054348111152649\n"
     ]
    }
   ],
   "source": [
    "# Evaluate the model\n",
    "score = model.evaluate(X_test, y_test, verbose=0)\n",
    "print(f\"Test loss: {score[0]}\")\n",
    "print(f\"Test accuracy: {score[1]}\")"
   ]
  },
  {
   "cell_type": "code",
   "execution_count": 14,
   "id": "101597e3",
   "metadata": {},
   "outputs": [
    {
     "data": {
      "text/plain": [
       "<Figure size 1200x400 with 0 Axes>"
      ]
     },
     "execution_count": 14,
     "metadata": {},
     "output_type": "execute_result"
    },
    {
     "data": {
      "text/plain": [
       "<Figure size 1200x400 with 0 Axes>"
      ]
     },
     "metadata": {},
     "output_type": "display_data"
    }
   ],
   "source": [
    "# Plot the training history\n",
    "plt.figure(figsize=(12, 4))\n"
   ]
  },
  {
   "cell_type": "code",
   "execution_count": 15,
   "id": "ba8ff56a",
   "metadata": {},
   "outputs": [
    {
     "data": {
      "text/plain": [
       "<matplotlib.legend.Legend at 0x22c8b7d84f0>"
      ]
     },
     "execution_count": 15,
     "metadata": {},
     "output_type": "execute_result"
    },
    {
     "data": {
      "image/png": "[encoded data removed]",
      "text/plain": [
       "<Figure size 640x480 with 1 Axes>"
      ]
     },
     "metadata": {},
     "output_type": "display_data"
    }
   ],
   "source": [
    "# Plot training & validation accuracy values\n",
    "plt.subplot(1, 2, 1)\n",
    "plt.plot(history.history['accuracy'])\n",
    "plt.plot(history.history['val_accuracy'])\n",
    "plt.title('Model accuracy')\n",
    "plt.xlabel('Epoch')\n",
    "plt.ylabel('Accuracy')\n",
    "plt.legend(['Train', 'Validation'], loc='upper left')"
   ]
  },
  {
   "cell_type": "code",
   "execution_count": 16,
   "id": "e1d92618",
   "metadata": {},
   "outputs": [
    {
     "data": {
      "image/png": "[encoded data removed]",
      "text/plain": [
       "<Figure size 640x480 with 1 Axes>"
      ]
     },
     "metadata": {},
     "output_type": "display_data"
    }
   ],
   "source": [
    "# Plot training & validation loss values\n",
    "plt.subplot(1, 2, 2)\n",
    "plt.plot(history.history['loss'])\n",
    "plt.plot(history.history['val_loss'])\n",
    "plt.title('Model loss')\n",
    "plt.xlabel('Epoch')\n",
    "plt.ylabel('Loss')\n",
    "plt.legend(['Train', 'Validation'], loc='upper left')\n",
    "plt.tight_layout()\n",
    "plt.show()"
   ]
  },
  {
   "cell_type": "code",
   "execution_count": 26,
   "id": "efbdedd1",
   "metadata": {},
   "outputs": [],
   "source": [
    "def test_prediction(test_image_path, scaler, model, label_encoder):\n",
    "    # Check if the path is a URL\n",
    "    if test_image_path.startswith('http://') or test_image_path.startswith('https://'):\n",
    "        # Download the image from the URL\n",
    "        response = requests.get(test_image_path)\n",
    "        if response.status_code == 200:\n",
    "            # Check if the response contains an image\n",
    "            if 'image' in response.headers.get('Content-Type', ''):\n",
    "                # Open the image from the downloaded content\n",
    "                test_image = Image.open(BytesIO(response.content)).convert('L')\n",
    "            else:\n",
    "                print(f'The URL does not point to an image: {test_image_path}')\n",
    "                return\n",
    "        else:\n",
    "            print(f'Failed to download the image from {test_image_path}, status code: {response.status_code}')\n",
    "            return\n",
    "    else:\n",
    "        # Load the image from the local file path\n",
    "        test_image = Image.open(test_image_path).convert('L')\n",
    "\n",
    "    # Resize the image to match the training images' size\n",
    "    test_image = test_image.resize((50, 50))\n",
    "    test_image = np.array(test_image).flatten().reshape(1, -1)\n",
    "    test_image = scaler.transform(test_image)\n",
    "    \n",
    "    # Predict the class\n",
    "    prediction = model.predict(test_image)\n",
    "    predicted_class = np.argmax(prediction, axis=1)\n",
    "    recognized_name = label_encoder.inverse_transform(predicted_class)[0]\n",
    "    print(f'Test image {os.path.basename(test_image_path)} is recognized as: {recognized_name}')\n"
   ]
  },
  {
   "cell_type": "code",
   "execution_count": 29,
   "id": "218fae9c",
   "metadata": {},
   "outputs": [
    {
     "name": "stdout",
     "output_type": "stream",
     "text": [
      "1/1 [==============================] - 0s 112ms/step\n",
      "Test image 1041.jpg is recognized as: Pervez_Musharraf\n"
     ]
    }
   ],
   "source": [
    "test_image_path = r'C:\\Users\\Manish Rai\\Downloads\\1041.jpg'\n",
    "test_prediction(test_image_path, scaler, model, label_encoder)"
   ]
  },
  {
   "cell_type": "code",
   "execution_count": 31,
   "id": "ee5f1e99",
   "metadata": {},
   "outputs": [
    {
     "name": "stdout",
     "output_type": "stream",
     "text": [
      "1/1 [==============================] - 0s 19ms/step\n",
      "Test image 2875.jpg is recognized as: David_Beckham\n"
     ]
    }
   ],
   "source": [
    "test_image_path = r'C:\\Users\\Manish Rai\\Downloads\\2875.jpg'\n",
    "test_prediction(test_image_path, scaler, model, label_encoder)"
   ]
  }
 ],
 "metadata": {
  "kernelspec": {
   "display_name": "Python 3 (ipykernel)",
   "language": "python",
   "name": "python3"
  },
  "language_info": {
   "codemirror_mode": {
    "name": "ipython",
    "version": 3
   },
   "file_extension": ".py",
   "mimetype": "text/x-python",
   "name": "python",
   "nbconvert_exporter": "python",
   "pygments_lexer": "ipython3",
   "version": "3.10.9"
  }
 },
 "nbformat": 4,
 "nbformat_minor": 5
}
